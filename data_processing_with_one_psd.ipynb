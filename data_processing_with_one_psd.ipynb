{
 "cells": [
  {
   "cell_type": "code",
   "execution_count": 1,
   "metadata": {},
   "outputs": [],
   "source": [
    "from psd_tools import PSDImage\n",
    "from PIL import Image\n",
    "import cv2\n",
    "from lib.image_processing import transform\n",
    "import detect_frames as ds\n",
    "import numpy as np"
   ]
  },
  {
   "cell_type": "code",
   "execution_count": 2,
   "metadata": {},
   "outputs": [],
   "source": [
    "backcolor_set = (13,254,17)\n",
    "threshold_for_backcolor = 10"
   ]
  },
  {
   "cell_type": "code",
   "execution_count": 3,
   "metadata": {},
   "outputs": [],
   "source": [
    "corrected_error_file_path = '/home/damian/Downloads/에러수정/'\n",
    "psd_num1 = '37_016.psd'\n",
    "data_path = '/home/damian/test/'\n",
    "psd_num2 = '037PSD/016/'"
   ]
  },
  {
   "cell_type": "code",
   "execution_count": 3,
   "metadata": {},
   "outputs": [],
   "source": [
    "psd = PSDImage.load('/home/dongsu/Downloads/chugui/002/015.psd')"
   ]
  },
  {
   "cell_type": "code",
   "execution_count": 4,
   "metadata": {},
   "outputs": [],
   "source": [
    "backcolor_in = False\n",
    "frame_in = False\n",
    "line_drawing_in = False\n",
    "bottom_painting_in = False\n",
    "\n",
    "backcolor_visible = True\n",
    "frame_visible = True\n",
    "line_drawing_visible = True\n",
    "bottom_painting_visible = True\n",
    "\n",
    "i = 0\n",
    "for layer in psd.layers:\n",
    "    if layer.name == 'backcolor':\n",
    "        backcolor_idx = i\n",
    "        backcolor_in = True\n",
    "        if layer.visible == False:\n",
    "            backcolor_visible = False\n",
    "            \n",
    "    if layer.name == 'frame':\n",
    "        frame_idx = i\n",
    "        frame_in = True\n",
    "        if layer.visible == False:\n",
    "            frame_visible = False\n",
    "            \n",
    "    if layer.name == 'line_drawing':\n",
    "        line_drawing_idx = i\n",
    "        line_drawing_in = True\n",
    "        if layer.visible == False:\n",
    "            line_drawing_visible = False\n",
    "            \n",
    "    if layer.name == 'bottom_painting':\n",
    "        bottom_painting_idx = i\n",
    "        bottom_painting_in = True\n",
    "        if layer.visible == False:\n",
    "            bottom_painting_visible = False\n",
    "    i += 1\n",
    "\n",
    "if backcolor_in == False:\n",
    "    print (\"backcolor doesn't exist\")\n",
    "    backcolor_idx = 100\n",
    "if frame_in == False:\n",
    "    print (\"frame doesn't exist\")\n",
    "    frame_idx = 100\n",
    "if line_drawing_in == False:\n",
    "    print (\"line_drawing doesn't exist\")\n",
    "    line_drawing_idx = 100\n",
    "if bottom_painting_in == False:\n",
    "    print (\"bottom_painting doesn't exist\")\n",
    "    bottom_painting_idx = 100\n",
    "\n",
    "if backcolor_visible == False:\n",
    "    print (\"backcolor is not visible\")\n",
    "if frame_visible == False:\n",
    "    print (\"frame is not visible\")\n",
    "if line_drawing_visible == False:\n",
    "    print (\"line_drawing is not visible\")\n",
    "if bottom_painting_visible == False:\n",
    "    print (\"bottom_painting is not visible\")    "
   ]
  },
  {
   "cell_type": "code",
   "execution_count": 6,
   "metadata": {},
   "outputs": [
    {
     "data": {
      "text/plain": [
       "0"
      ]
     },
     "execution_count": 6,
     "metadata": {},
     "output_type": "execute_result"
    }
   ],
   "source": [
    "frame_idx"
   ]
  },
  {
   "cell_type": "code",
   "execution_count": 7,
   "metadata": {},
   "outputs": [
    {
     "data": {
      "text/plain": [
       "10"
      ]
     },
     "execution_count": 7,
     "metadata": {},
     "output_type": "execute_result"
    }
   ],
   "source": [
    "backcolor_idx"
   ]
  },
  {
   "cell_type": "code",
   "execution_count": 8,
   "metadata": {},
   "outputs": [
    {
     "data": {
      "text/plain": [
       "[<pixel: 'frame', size=1541x2757, x=107, y=49>,\n",
       " <pixel: '레이어 10', size=1772x976, x=58, y=656, invisible>,\n",
       " <pixel: '레이어 9', size=1751x904, x=-47, y=-33, invisible>,\n",
       " <pixel: '레이어 8', size=1748x1351, x=0, y=1493, invisible>,\n",
       " <pixel: 'line_drawing', size=1709x2790, x=11, y=46>,\n",
       " <pixel: 'bottom_painting', size=1614x2755, x=65, y=52>,\n",
       " <pixel: '레이어 6', size=1700x1499, x=4, y=22, invisible>,\n",
       " <pixel: 'Layer 1', size=2725x1993, x=-482, y=1515, invisible>,\n",
       " <pixel: '친절', size=1725x2823, x=23, y=12, invisible>,\n",
       " <pixel: '레이어 1', size=1727x2805, x=21, y=39, invisible>,\n",
       " <pixel: 'backcolor', size=1748x2844, x=0, y=0>]"
      ]
     },
     "execution_count": 8,
     "metadata": {},
     "output_type": "execute_result"
    }
   ],
   "source": [
    "psd.layers"
   ]
  },
  {
   "cell_type": "code",
   "execution_count": 14,
   "metadata": {},
   "outputs": [
    {
     "ename": "AttributeError",
     "evalue": "can't set attribute",
     "output_type": "error",
     "traceback": [
      "\u001b[0;31m---------------------------------------------------------------------------\u001b[0m",
      "\u001b[0;31mAttributeError\u001b[0m                            Traceback (most recent call last)",
      "\u001b[0;32m<ipython-input-14-f63be99f1ab4>\u001b[0m in \u001b[0;36m<module>\u001b[0;34m()\u001b[0m\n\u001b[0;32m----> 1\u001b[0;31m \u001b[0mpsd\u001b[0m\u001b[0;34m.\u001b[0m\u001b[0mlayers\u001b[0m \u001b[0;34m=\u001b[0m \u001b[0;34m[\u001b[0m\u001b[0;36m2\u001b[0m\u001b[0;34m]\u001b[0m\u001b[0;34m\u001b[0m\u001b[0m\n\u001b[0m",
      "\u001b[0;31mAttributeError\u001b[0m: can't set attribute"
     ]
    }
   ],
   "source": [
    "psd.layers = [2]"
   ]
  },
  {
   "cell_type": "code",
   "execution_count": 5,
   "metadata": {},
   "outputs": [
    {
     "ename": "AttributeError",
     "evalue": "can't set attribute",
     "output_type": "error",
     "traceback": [
      "\u001b[0;31m---------------------------------------------------------------------------\u001b[0m",
      "\u001b[0;31mAttributeError\u001b[0m                            Traceback (most recent call last)",
      "\u001b[0;32m<ipython-input-5-d854d9b5ed4f>\u001b[0m in \u001b[0;36m<module>\u001b[0;34m()\u001b[0m\n\u001b[0;32m----> 1\u001b[0;31m \u001b[0mpsd\u001b[0m\u001b[0;34m.\u001b[0m\u001b[0mlayers\u001b[0m \u001b[0;34m=\u001b[0m \u001b[0;34m[\u001b[0m\u001b[0mpsd\u001b[0m\u001b[0;34m.\u001b[0m\u001b[0mlayers\u001b[0m\u001b[0;34m[\u001b[0m\u001b[0mframe_idx\u001b[0m\u001b[0;34m]\u001b[0m\u001b[0;34m,\u001b[0m \u001b[0mpsd\u001b[0m\u001b[0;34m.\u001b[0m\u001b[0mlayers\u001b[0m\u001b[0;34m[\u001b[0m\u001b[0mbackcolor_idx\u001b[0m\u001b[0;34m]\u001b[0m\u001b[0;34m]\u001b[0m\u001b[0;34m\u001b[0m\u001b[0m\n\u001b[0m\u001b[1;32m      2\u001b[0m \u001b[0mbackcolor_frame_img\u001b[0m \u001b[0;34m=\u001b[0m \u001b[0mpsd\u001b[0m\u001b[0;34m.\u001b[0m\u001b[0mas_PIL_merged\u001b[0m\u001b[0;34m(\u001b[0m\u001b[0;34m)\u001b[0m\u001b[0;34m\u001b[0m\u001b[0m\n\u001b[1;32m      3\u001b[0m \u001b[0mbackcolor_frame_img\u001b[0m \u001b[0;34m=\u001b[0m \u001b[0mbackcolor_frame_img\u001b[0m\u001b[0;34m.\u001b[0m\u001b[0mconvert\u001b[0m\u001b[0;34m(\u001b[0m\u001b[0;34m'RGB'\u001b[0m\u001b[0;34m)\u001b[0m\u001b[0;34m\u001b[0m\u001b[0m\n\u001b[1;32m      4\u001b[0m \u001b[0mbackcolor_frame_img\u001b[0m\u001b[0;34m.\u001b[0m\u001b[0msave\u001b[0m\u001b[0;34m(\u001b[0m\u001b[0mdata_path\u001b[0m \u001b[0;34m+\u001b[0m \u001b[0mpsd_num2\u001b[0m \u001b[0;34m+\u001b[0m \u001b[0;34m'backcolor_frame.png'\u001b[0m\u001b[0;34m)\u001b[0m\u001b[0;34m\u001b[0m\u001b[0m\n\u001b[1;32m      5\u001b[0m \u001b[0;32mdel\u001b[0m \u001b[0mpsd\u001b[0m\u001b[0;34m\u001b[0m\u001b[0m\n",
      "\u001b[0;31mAttributeError\u001b[0m: can't set attribute"
     ]
    }
   ],
   "source": [
    "psd.layers = [psd.layers[frame_idx], psd.layers[backcolor_idx]]\n",
    "backcolor_frame_img = psd.as_PIL_merged()\n",
    "backcolor_frame_img = backcolor_frame_img.convert('RGB')\n",
    "backcolor_frame_img.save(data_path + psd_num2 + 'backcolor_frame.png')\n",
    "del psd"
   ]
  },
  {
   "cell_type": "code",
   "execution_count": 12,
   "metadata": {},
   "outputs": [],
   "source": [
    "img = cv2.imread(data_path + psd_num2 + 'backcolor_frame.png')[:,:,::-1]\n",
    "scenes = ds.detect_frames(img, data_path + psd_num2 + 'detected_backcolor_frame.png')"
   ]
  },
  {
   "cell_type": "code",
   "execution_count": 14,
   "metadata": {},
   "outputs": [],
   "source": [
    "psd = PSDImage.load(corrected_error_file_path + psd_num1)\n",
    "picture_img = psd.as_PIL()\n",
    "picture_img.save(data_path + psd_num2 + 'picture.png')\n",
    "backcolor_img = psd.layers[backcolor_idx].as_PIL()\n",
    "psd.layers = [psd.layers[line_drawing_idx], psd.layers[bottom_painting_idx]]\n",
    "lineDrawing_bottomPainting_img = psd.as_PIL_merged()\n",
    "green_backcolor = Image.new('RGBA', backcolor_img.size, backcolor_set)\n",
    "alpha_composite = Image.alpha_composite(green_backcolor, lineDrawing_bottomPainting_img)\n",
    "RGB_alpha_composite = alpha_composite.convert('RGB')\n",
    "RGB_alpha_composite.save(data_path + psd_num2 + 'user_backcolor.png')\n",
    "del psd"
   ]
  },
  {
   "cell_type": "code",
   "execution_count": null,
   "metadata": {},
   "outputs": [],
   "source": [
    "psd = PSDImage.load(corrected_error_file_path + psd_num1)\n",
    "psd.layers = [psd.layers[line_drawing_idx], psd.layers[bottom_painting_idx], psd.layers[backcolor_idx]]\n",
    "input_img = psd.as_PIL_merged()\n",
    "input_img.save(data_path + psd_num2 + 'input_picture.png'\n",
    "del psd               "
   ]
  },
  {
   "cell_type": "code",
   "execution_count": 23,
   "metadata": {},
   "outputs": [],
   "source": [
    "i = 0\n",
    "img1 = cv2.imread(data_path + psd_num2 + 'user_backcolor.png')\n",
    "img2 = cv2.imread(data_path + psd_num2 + 'input_picture.png')\n",
    "\n",
    "seq_array = np.lexsort((scenes[:,0], scenes[:,1]))\n",
    "seq_list = seq_array.tolist()\n",
    "scenes_list = scenes.tolist()\n",
    "sorted_scenes_list = []\n",
    "\n",
    "for idx in seq_list:\n",
    "    sorted_scenes_list.append(scenes_list[idx])\n",
    "\n",
    "for x, y, w, h in sorted_scenes_list:\n",
    "    center_x = x + int(w/2)\n",
    "    center_y = y + int(h/2)\n",
    "    cropped1 = transform.crop(img1, (center_x,center_y), w, h)\n",
    "    cropped2 = transform.crop(img2, (center_x,center_y), w, h)\n",
    "    is_backcolor = (cropped1 == backcolor_set[::-1]).all(2)\n",
    "    r, c = np.where(is_backcolor == False)\n",
    "\n",
    "    if len(c) > threshold_for_backcolor:\n",
    "        i+= 1\n",
    "        cv2.imwrite(data_path + psd_num2 +'/output_cropped_img'+str(i)+'.png', cropped1)\n",
    "        cv2.imwrite(data_path + psd_num2 +'/input_cropped_img'+str(i)+'.png', cropped2)"
   ]
  },
  {
   "cell_type": "code",
   "execution_count": null,
   "metadata": {},
   "outputs": [],
   "source": [
    "with open(work_path+'/name_error_psd.txt','wb') as f :\n",
    "    \tpickle.dump(name_error_list, f)"
   ]
  }
 ],
 "metadata": {
  "kernelspec": {
   "display_name": "Python [conda env:opencv]",
   "language": "python",
   "name": "conda-env-opencv-py"
  },
  "language_info": {
   "codemirror_mode": {
    "name": "ipython",
    "version": 3
   },
   "file_extension": ".py",
   "mimetype": "text/x-python",
   "name": "python",
   "nbconvert_exporter": "python",
   "pygments_lexer": "ipython3",
   "version": "3.5.5"
  }
 },
 "nbformat": 4,
 "nbformat_minor": 2
}
