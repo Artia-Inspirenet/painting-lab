{
 "cells": [
  {
   "cell_type": "code",
   "execution_count": 1,
   "metadata": {},
   "outputs": [],
   "source": [
    "import os\n",
    "from psd_tools import PSDImage\n",
    "from PIL import Image\n",
    "import pickle\n",
    "import cv2\n",
    "from lib.image_processing import transform\n",
    "import detect_scene as ds"
   ]
  },
  {
   "cell_type": "code",
   "execution_count": 2,
   "metadata": {},
   "outputs": [],
   "source": [
    "psd = PSDImage.load('/home/damian/test/001.psd')"
   ]
  },
  {
   "cell_type": "code",
   "execution_count": 3,
   "metadata": {},
   "outputs": [],
   "source": [
    "backcolor_in = False\n",
    "frame_in = False\n",
    "line_drawing_in = False\n",
    "bottom_painting_in = False\n",
    "\n",
    "i = 0\n",
    "for layer in psd.layers:\n",
    "    if layer.name == 'backcolor':\n",
    "        backcolor_idx = i\n",
    "        backcolor_in = True\n",
    "    if layer.name == 'frame':\n",
    "        frame_idx = i\n",
    "        frame_in = True\n",
    "    if layer.name == 'line_drawing':\n",
    "        line_drawing_idx = i\n",
    "        line_drawing_in = True\n",
    "    if layer.name == 'bottom_painting':\n",
    "        bottom_painting_idx = i\n",
    "        bottom_painting_in = True    \n",
    "    i += 1    "
   ]
  },
  {
   "cell_type": "code",
   "execution_count": null,
   "metadata": {},
   "outputs": [],
   "source": [
    "def check_names_in():\n",
    "    if backcolor_in == False:\n",
    "        raise NameError(\"backcolor doesn't exist\")\n",
    "    if frame_in == False:\n",
    "        raise NameError(\"frame doesn't exist\")\n",
    "    if line_drawing_in == False:\n",
    "        raise NameError(\"line_drawing doesn't exist\")\n",
    "    if bottom_painting_in == False:\n",
    "        raise NameError(\"bottom_painting doesn't exist\")"
   ]
  },
  {
   "cell_type": "code",
   "execution_count": null,
   "metadata": {},
   "outputs": [],
   "source": [
    "try:\n",
    "    check_names_in()\n",
    "except NameError as e:\n",
    "    print (\"NameError :\", e)"
   ]
  },
  {
   "cell_type": "code",
   "execution_count": 6,
   "metadata": {},
   "outputs": [
    {
     "data": {
      "text/plain": [
       "[<psd_tools.Layer: 'frame', size=1007x3787, x=404, y=348>,\n",
       " <psd_tools.Layer: '레이어 11', size=943x1114, x=521, y=1896>,\n",
       " <psd_tools.Layer: '레이어 10', size=892x1484, x=524, y=1885>,\n",
       " <psd_tools.Layer: 'line_drawing', size=876x1373, x=537, y=1978>,\n",
       " <psd_tools.Layer: '레이어 7', size=799x1208, x=613, y=2163>,\n",
       " <psd_tools.Layer: 'bottom_painting', size=833x1331, x=556, y=1976>,\n",
       " <psd_tools.Layer: '레이어 9', size=866x1350, x=549, y=1918>,\n",
       " <psd_tools.Layer: '레이어 8', size=916x1474, x=527, y=1880>,\n",
       " <psd_tools.Layer: '스케치-------------------------------', size=1051x1276, x=376, y=2062>,\n",
       " <psd_tools.Layer: '레이어 5', size=1425x15274, x=31, y=-4484>,\n",
       " <psd_tools.Layer: 'backcolor', size=1500x6000, x=0, y=0>]"
      ]
     },
     "execution_count": 6,
     "metadata": {},
     "output_type": "execute_result"
    }
   ],
   "source": [
    "psd.layers"
   ]
  },
  {
   "cell_type": "code",
   "execution_count": 7,
   "metadata": {},
   "outputs": [
    {
     "data": {
      "text/plain": [
       "<psd_tools.Layer: 'frame', size=1007x3787, x=404, y=348>"
      ]
     },
     "execution_count": 7,
     "metadata": {},
     "output_type": "execute_result"
    }
   ],
   "source": [
    "psd.layers[frame_idx]"
   ]
  },
  {
   "cell_type": "code",
   "execution_count": 8,
   "metadata": {},
   "outputs": [],
   "source": [
    "point = (psd.layers[frame_idx].bbox.x1, psd.layers[frame_idx].bbox.y1)"
   ]
  },
  {
   "cell_type": "code",
   "execution_count": 9,
   "metadata": {},
   "outputs": [
    {
     "data": {
      "text/plain": [
       "(404, 348)"
      ]
     },
     "execution_count": 9,
     "metadata": {},
     "output_type": "execute_result"
    }
   ],
   "source": [
    "point"
   ]
  },
  {
   "cell_type": "code",
   "execution_count": 10,
   "metadata": {},
   "outputs": [],
   "source": [
    "psd.layers = [psd.layers[frame_idx],psd.layers[backcolor_idx]]"
   ]
  },
  {
   "cell_type": "code",
   "execution_count": 11,
   "metadata": {},
   "outputs": [],
   "source": [
    "backcolor_frame_img = psd.as_PIL_merged()"
   ]
  },
  {
   "cell_type": "code",
   "execution_count": 12,
   "metadata": {},
   "outputs": [],
   "source": [
    "backcolor_frame_img = backcolor_frame_img.convert('RGB')"
   ]
  },
  {
   "cell_type": "code",
   "execution_count": 13,
   "metadata": {},
   "outputs": [],
   "source": [
    "backcolor_frame_img.save('/home/damian/test/bf001.png')"
   ]
  },
  {
   "cell_type": "code",
   "execution_count": 14,
   "metadata": {},
   "outputs": [],
   "source": [
    "del psd"
   ]
  },
  {
   "cell_type": "code",
   "execution_count": 15,
   "metadata": {},
   "outputs": [],
   "source": [
    "img = cv2.imread('/home/damian/test/bf001.png')[:,:,::-1]"
   ]
  },
  {
   "cell_type": "code",
   "execution_count": 16,
   "metadata": {},
   "outputs": [
    {
     "name": "stdout",
     "output_type": "stream",
     "text": [
      "color image\n",
      "final_scene information! : \n",
      "x, y, w, h of each scene : \n",
      "[[ 554 1915  857 1389]\n",
      " [ 745  858   87  355]\n",
      " [ 403  347  102  350]]\n",
      "/home/damian/test/bf001_dt.png : # of scenes = 3\n"
     ]
    }
   ],
   "source": [
    "filtered_scene = ds.detect_scenes(img,'/home/damian/test/bf001_dt.png')"
   ]
  },
  {
   "cell_type": "code",
   "execution_count": 17,
   "metadata": {},
   "outputs": [],
   "source": [
    "psd = PSDImage.load('/home/damian/test/001.psd')"
   ]
  },
  {
   "cell_type": "code",
   "execution_count": 18,
   "metadata": {},
   "outputs": [],
   "source": [
    "backcolor_img = psd.layers[backcolor_idx].as_PIL()"
   ]
  },
  {
   "cell_type": "code",
   "execution_count": 19,
   "metadata": {},
   "outputs": [],
   "source": [
    "psd.layers = [psd.layers[line_drawing_idx], psd.layers[bottom_painting_idx]]"
   ]
  },
  {
   "cell_type": "code",
   "execution_count": 20,
   "metadata": {},
   "outputs": [],
   "source": [
    "lineDrawing_bottomPainting_img = psd.as_PIL_merged()"
   ]
  },
  {
   "cell_type": "code",
   "execution_count": 21,
   "metadata": {},
   "outputs": [],
   "source": [
    "green_backcolor = Image.new('RGBA', backcolor_img.size, (0,255,0))\n",
    "alpha_composite = Image.alpha_composite(green_backcolor, lineDrawing_bottomPainting_img)"
   ]
  },
  {
   "cell_type": "code",
   "execution_count": 39,
   "metadata": {},
   "outputs": [],
   "source": [
    "a = alpha_composite.convert('RGB')"
   ]
  },
  {
   "cell_type": "code",
   "execution_count": 49,
   "metadata": {},
   "outputs": [],
   "source": [
    "a.save('/home/damian/test/gb001.png')"
   ]
  },
  {
   "cell_type": "code",
   "execution_count": 50,
   "metadata": {},
   "outputs": [],
   "source": [
    "img = cv2.imread('/home/damian/test/gb001.png')"
   ]
  },
  {
   "cell_type": "code",
   "execution_count": 51,
   "metadata": {},
   "outputs": [],
   "source": [
    "i = 0\n",
    "for x, y, w, h in filtered_scene:\n",
    "    i += 1\n",
    "    center_x = x + int(w/2)\n",
    "    center_y = y + int(h/2)\n",
    "    cropped = transform.crop(img, (center_x,center_y), w, h)\n",
    "    cv2.imwrite('/home/damian/test/gb'+str(i)+'.png', cropped)"
   ]
  },
  {
   "cell_type": "code",
   "execution_count": null,
   "metadata": {},
   "outputs": [],
   "source": []
  },
  {
   "cell_type": "code",
   "execution_count": 52,
   "metadata": {},
   "outputs": [
    {
     "data": {
      "text/plain": [
       "'/home/damian/artia/painting-lab'"
      ]
     },
     "execution_count": 52,
     "metadata": {},
     "output_type": "execute_result"
    }
   ],
   "source": [
    "os.getcwd()"
   ]
  },
  {
   "cell_type": "code",
   "execution_count": null,
   "metadata": {},
   "outputs": [],
   "source": []
  },
  {
   "cell_type": "code",
   "execution_count": null,
   "metadata": {},
   "outputs": [],
   "source": []
  }
 ],
 "metadata": {
  "kernelspec": {
   "display_name": "tf",
   "language": "python",
   "name": "tf"
  },
  "language_info": {
   "codemirror_mode": {
    "name": "ipython",
    "version": 3
   },
   "file_extension": ".py",
   "mimetype": "text/x-python",
   "name": "python",
   "nbconvert_exporter": "python",
   "pygments_lexer": "ipython3",
   "version": "3.6.5"
  }
 },
 "nbformat": 4,
 "nbformat_minor": 2
}
